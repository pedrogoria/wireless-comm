{
  "cells": [
    {
      "metadata": {
        "collapsed": true
      },
      "cell_type": "markdown",
      "source": "# BL40A2020 Wireless Communication Systems\n\n## Assignment  week 3: Digital modulation\n\n## Author:"
    },
    {
      "metadata": {},
      "cell_type": "markdown",
      "source": "### Follow the steps done in the [notes](https://github.com/pedrohjn/wireless-comm/blob/master/Week%203/week3.ipynb) to analyze the *[8PSK](https://github.com/pedrohjn/wireless-comm/blob/master/Week%203/week3.ipynb)* modulation"
    },
    {
      "metadata": {},
      "cell_type": "markdown",
      "source": "**1. Signal constelation**"
    },
    {
      "metadata": {
        "trusted": true
      },
      "cell_type": "code",
      "source": "",
      "execution_count": null,
      "outputs": []
    },
    {
      "metadata": {},
      "cell_type": "markdown",
      "source": "**2. Numerical example:** Assume the following equation:\n\n$$u_\\mathrm{p}(t) = u_\\mathrm{c}(t)\\cos(2\\pi 1000 t) - u_\\mathrm{s}(t)\\sin(2\\pi 1000 t)$$\n\nPlot the wave form for a random binary sequence of $12$ bits considering an information rate of 300 bits per second."
    },
    {
      "metadata": {
        "trusted": true
      },
      "cell_type": "code",
      "source": "",
      "execution_count": null,
      "outputs": []
    },
    {
      "metadata": {},
      "cell_type": "markdown",
      "source": "**3. Compute analytically the 99% and 90% power-containment bandwidths and test it with numerical results**"
    },
    {
      "metadata": {
        "trusted": true
      },
      "cell_type": "code",
      "source": "",
      "execution_count": null,
      "outputs": []
    }
  ],
  "metadata": {
    "kernelspec": {
      "name": "python36",
      "display_name": "Python 3.6",
      "language": "python"
    },
    "language_info": {
      "mimetype": "text/x-python",
      "nbconvert_exporter": "python",
      "name": "python",
      "pygments_lexer": "ipython3",
      "version": "3.6.6",
      "file_extension": ".py",
      "codemirror_mode": {
        "version": 3,
        "name": "ipython"
      }
    }
  },
  "nbformat": 4,
  "nbformat_minor": 2
}
