{
  "cells": [
    {
      "metadata": {
        "collapsed": true
      },
      "cell_type": "markdown",
      "source": "# BL40A2020 Wireless Communication Systems\n\n## Assignment  week 5: Optimal demodulation\n\n## Author:"
    },
    {
      "metadata": {},
      "cell_type": "markdown",
      "source": "### Follow the steps done in the [notes](https://github.com/pedrohjn/wireless-comm/blob/master/Week%205/week5.ipynb) to analyze the *[8PSK](https://komm.readthedocs.io/en/latest/komm.PSKModulation/)* modulation"
    },
    {
      "metadata": {},
      "cell_type": "markdown",
      "source": "**1. Signal constelation with noise for $E_b/N_0 = 12$dB. You can reuse the code provided in this [link](https://github.com/rwnobrega/komm/blob/master/demo/constellations.ipynb).**"
    },
    {
      "metadata": {
        "trusted": true
      },
      "cell_type": "code",
      "source": "",
      "execution_count": null,
      "outputs": []
    },
    {
      "metadata": {},
      "cell_type": "markdown",
      "source": "**2. Numerical example:** Assume the following equation:\n\n$$u_\\mathrm{p}(t) = u_\\mathrm{c}(t)\\cos(2\\pi 600 t) - u_\\mathrm{s}(t)\\sin(2\\pi 600 t)$$\n\nConsidering an AWGN channel so that $E_b/N_0 = 12$dB, plot the wave form for a random binary sequence of $18$ bits considering an information rate of 300 bits per second."
    },
    {
      "metadata": {
        "trusted": true
      },
      "cell_type": "code",
      "source": "",
      "execution_count": null,
      "outputs": []
    },
    {
      "metadata": {},
      "cell_type": "markdown",
      "source": "**3. Performance analysis:** Plot the figure *error probability vs. $E_b/N_0$* assuming that the 0's and 1's in the input sequence are equally distributed. Consider two curves, symbol error probability and bit error probability."
    },
    {
      "metadata": {
        "trusted": true
      },
      "cell_type": "code",
      "source": "",
      "execution_count": null,
      "outputs": []
    },
    {
      "metadata": {},
      "cell_type": "markdown",
      "source": "**4. Decision rule:** If the input sequence is not equally distributed, the optimal decision rule changes. With your own words, explain why MAP outperforms ML."
    },
    {
      "metadata": {
        "trusted": true
      },
      "cell_type": "code",
      "source": "",
      "execution_count": null,
      "outputs": []
    }
  ],
  "metadata": {
    "kernelspec": {
      "name": "python36",
      "display_name": "Python 3.6",
      "language": "python"
    },
    "language_info": {
      "mimetype": "text/x-python",
      "nbconvert_exporter": "python",
      "name": "python",
      "pygments_lexer": "ipython3",
      "version": "3.6.6",
      "file_extension": ".py",
      "codemirror_mode": {
        "version": 3,
        "name": "ipython"
      }
    }
  },
  "nbformat": 4,
  "nbformat_minor": 2
}
